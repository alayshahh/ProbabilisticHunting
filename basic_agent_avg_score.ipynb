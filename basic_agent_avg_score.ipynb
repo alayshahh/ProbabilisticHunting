{
 "cells": [
  {
   "cell_type": "code",
   "execution_count": 1,
   "id": "sought-hacker",
   "metadata": {},
   "outputs": [],
   "source": [
    "### Problem 3 \n",
    "## Generate 10 maps, and play through each map (with random target location and initial agent location each time) 10 times with each agent."
   ]
  },
  {
   "cell_type": "code",
   "execution_count": 1,
   "id": "separate-socket",
   "metadata": {},
   "outputs": [],
   "source": [
    "import grid as GRID\n",
    "import agent1\n",
    "import agent2\n",
    "from tqdm import tqdm"
   ]
  },
  {
   "cell_type": "code",
   "execution_count": 3,
   "id": "juvenile-bargain",
   "metadata": {},
   "outputs": [
    {
     "name": "stderr",
     "output_type": "stream",
     "text": [
      "100%|██████████| 10/10 [01:58<00:00, 11.82s/it]\n",
      "100%|██████████| 10/10 [01:10<00:00,  7.07s/it]\n",
      "100%|██████████| 10/10 [01:36<00:00,  9.65s/it]\n",
      "100%|██████████| 10/10 [05:23<00:00, 32.40s/it]\n",
      "100%|██████████| 10/10 [02:06<00:00, 12.63s/it]\n",
      "100%|██████████| 10/10 [02:05<00:00, 12.59s/it]\n",
      "100%|██████████| 10/10 [03:02<00:00, 18.28s/it]\n",
      "100%|██████████| 10/10 [02:53<00:00, 17.35s/it]\n",
      "100%|██████████| 10/10 [06:33<00:00, 39.32s/it]\n",
      "100%|██████████| 10/10 [04:22<00:00, 26.22s/it]\n"
     ]
    }
   ],
   "source": [
    "agent1_avg_score = []\n",
    "agent2_avg_score = []\n",
    "for i in range(10):\n",
    "  grid = GRID.generate_grid(50)\n",
    "  orig_belief = 1/50**2\n",
    "  agent1_score = 0\n",
    "  agent2_score = 0\n",
    "  for j in tqdm(range(10)):\n",
    "    agent1_score += agent1.run(grid,[[orig_belief for _ in range(50)] for _ in range(50)])\n",
    "    agent2_score += agent2.run(grid,[[orig_belief for _ in range(50)] for _ in range(50)])\n",
    "  agent1_avg_score.append(agent1_score/10)\n",
    "  agent2_avg_score.append(agent2_score/10)"
   ]
  },
  {
   "cell_type": "code",
   "execution_count": 7,
   "id": "mobile-speech",
   "metadata": {},
   "outputs": [
    {
     "data": {
      "text/plain": [
       "53975.340000000004"
      ]
     },
     "execution_count": 7,
     "metadata": {},
     "output_type": "execute_result"
    }
   ],
   "source": [
    "agent1_score = sum(agent1_avg_score)/10\n",
    "agent1_score"
   ]
  },
  {
   "cell_type": "code",
   "execution_count": 9,
   "id": "assured-kinase",
   "metadata": {},
   "outputs": [
    {
     "data": {
      "text/plain": [
       "21920.269999999997"
      ]
     },
     "execution_count": 9,
     "metadata": {},
     "output_type": "execute_result"
    }
   ],
   "source": [
    "agent2_score = sum(agent2_avg_score)/10\n",
    "agent2_score"
   ]
  },
  {
   "cell_type": "code",
   "execution_count": null,
   "id": "dated-failure",
   "metadata": {},
   "outputs": [],
   "source": []
  }
 ],
 "metadata": {
  "kernelspec": {
   "display_name": "Python 3",
   "language": "python",
   "name": "python3"
  },
  "language_info": {
   "codemirror_mode": {
    "name": "ipython",
    "version": 3
   },
   "file_extension": ".py",
   "mimetype": "text/x-python",
   "name": "python",
   "nbconvert_exporter": "python",
   "pygments_lexer": "ipython3",
   "version": "3.7.3"
  }
 },
 "nbformat": 4,
 "nbformat_minor": 5
}
