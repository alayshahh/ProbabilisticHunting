{
 "cells": [
  {
   "cell_type": "code",
   "execution_count": 1,
   "id": "sought-hacker",
   "metadata": {},
   "outputs": [],
   "source": [
    "### Problem 3 \n",
    "## Generate 10 maps, and play through each map (with random target location and initial agent location each time) 10 times with each agent."
   ]
  },
  {
   "cell_type": "code",
   "execution_count": 2,
   "id": "separate-socket",
   "metadata": {},
   "outputs": [],
   "source": [
    "import grid as GRID\n",
    "import agent1\n",
    "import agent2\n",
    "import agent3\n",
    "from tqdm import tqdm"
   ]
  },
  {
   "cell_type": "code",
   "execution_count": 4,
   "id": "juvenile-bargain",
   "metadata": {},
   "outputs": [
    {
     "name": "stderr",
     "output_type": "stream",
     "text": [
      "100%|██████████| 10/10 [01:15<00:00,  7.50s/it]\n",
      "100%|██████████| 10/10 [01:11<00:00,  7.13s/it]\n",
      "100%|██████████| 10/10 [00:32<00:00,  3.24s/it]\n",
      "100%|██████████| 10/10 [01:07<00:00,  6.78s/it]\n",
      "100%|██████████| 10/10 [01:05<00:00,  6.55s/it]\n",
      "100%|██████████| 10/10 [02:40<00:00, 16.01s/it]\n",
      "100%|██████████| 10/10 [00:31<00:00,  3.19s/it]\n",
      "100%|██████████| 10/10 [01:29<00:00,  9.00s/it]\n",
      "100%|██████████| 10/10 [03:24<00:00, 20.46s/it]\n",
      "100%|██████████| 10/10 [01:09<00:00,  6.98s/it]\n"
     ]
    }
   ],
   "source": [
    "agent1_avg_score = []\n",
    "agent2_avg_score = []\n",
    "for i in range(10):\n",
    "  grid = GRID.generate_grid(50)\n",
    "  orig_belief = 1/50**2\n",
    "  agent1_score = 0\n",
    "  agent2_score = 0\n",
    "  for j in tqdm(range(10)):\n",
    "    agent1_score += agent1.run(grid,[[orig_belief for _ in range(50)] for _ in range(50)])\n",
    "    agent2_score += agent2.run(grid,[[orig_belief for _ in range(50)] for _ in range(50)])\n",
    "  agent1_avg_score.append(agent1_score/10)\n",
    "  agent2_avg_score.append(agent2_score/10)"
   ]
  },
  {
   "cell_type": "code",
   "execution_count": 5,
   "id": "mobile-speech",
   "metadata": {},
   "outputs": [
    {
     "data": {
      "text/plain": [
       "33437.82"
      ]
     },
     "execution_count": 5,
     "metadata": {},
     "output_type": "execute_result"
    }
   ],
   "source": [
    "agent1_score = sum(agent1_avg_score)/10\n",
    "agent1_score"
   ]
  },
  {
   "cell_type": "code",
   "execution_count": 6,
   "id": "assured-kinase",
   "metadata": {},
   "outputs": [
    {
     "data": {
      "text/plain": [
       "9638.51"
      ]
     },
     "execution_count": 6,
     "metadata": {},
     "output_type": "execute_result"
    }
   ],
   "source": [
    "agent2_score = sum(agent2_avg_score)/10\n",
    "agent2_score"
   ]
  },
  {
   "cell_type": "code",
   "execution_count": 10,
   "id": "dated-failure",
   "metadata": {
    "scrolled": true
   },
   "outputs": [
    {
     "data": {
      "image/png": "[encoded data removed]",
      "text/plain": [
       "<Figure size 432x288 with 1 Axes>"
      ]
     },
     "metadata": {
      "needs_background": "light"
     },
     "output_type": "display_data"
    }
   ],
   "source": [
    "import matplotlib.pyplot as plt\n",
    "import numpy as np\n",
    "\n",
    "BAR_WIDTH = 0.5     # 0. < BAR_WIDTH <= 1.\n",
    "\n",
    "# the data you want to plot\n",
    "categories = [\"Agent 1\", \"Agent 2\"]\n",
    "values     = [ agent1_score,  agent2_score]\n",
    "# x-values for the center of each bar\n",
    "xs = np.arange(1, len(categories) +1)\n",
    "# plot each bar centered\n",
    "plt.bar(xs - BAR_WIDTH/20, values, width=BAR_WIDTH)\n",
    "# add bar labels\n",
    "plt.xticks(xs, categories)\n",
    "# make sure the chart is centered\n",
    "plt.xlim(0, len(categories) + 1)\n",
    "plt.title('Agent 1 vs Agent 2 Time Score (lower = better)')\n",
    "plt.xlabel('Agent')\n",
    "plt.ylabel('Score')\n",
    "# show the results\n",
    "plt.show()"
   ]
  },
  {
   "cell_type": "code",
   "execution_count": 3,
   "id": "linear-blair",
   "metadata": {},
   "outputs": [
    {
     "name": "stderr",
     "output_type": "stream",
     "text": [
      "100%|██████████| 10/10 [03:22<00:00, 20.23s/it]\n",
      "100%|██████████| 10/10 [09:16<00:00, 55.69s/it]\n",
      "100%|██████████| 10/10 [02:49<00:00, 17.00s/it]\n",
      "100%|██████████| 10/10 [05:55<00:00, 35.59s/it]\n",
      "100%|██████████| 10/10 [13:06<00:00, 78.61s/it]\n",
      "100%|██████████| 10/10 [04:19<00:00, 25.94s/it]\n",
      "100%|██████████| 10/10 [03:16<00:00, 19.64s/it]\n",
      "100%|██████████| 10/10 [05:23<00:00, 32.33s/it]\n",
      "100%|██████████| 10/10 [03:33<00:00, 21.32s/it]\n",
      "100%|██████████| 10/10 [00:47<00:00,  4.70s/it]\n"
     ]
    }
   ],
   "source": [
    "agent1_avg_score = []\n",
    "agent2_avg_score = []\n",
    "agent3_avg_score = []\n",
    "for i in range(10):\n",
    "  grid = GRID.generate_grid(50)\n",
    "  orig_belief = 1/50**2\n",
    "  agent1_score = 0\n",
    "  agent2_score = 0\n",
    "  agent3_score = 0\n",
    "  for j in tqdm(range(10)):\n",
    "    agent1_score += agent1.run(grid,[[orig_belief for _ in range(50)] for _ in range(50)])\n",
    "    agent2_score += agent2.run(grid,[[orig_belief for _ in range(50)] for _ in range(50)])\n",
    "    agent3_score += agent3.run(grid,[[orig_belief for _ in range(50)] for _ in range(50)])\n",
    "  agent1_avg_score.append(agent1_score/10)\n",
    "  agent2_avg_score.append(agent2_score/10)\n",
    "  agent3_avg_score.append(agent3_score/10)"
   ]
  },
  {
   "cell_type": "code",
   "execution_count": 4,
   "id": "atomic-advance",
   "metadata": {},
   "outputs": [
    {
     "data": {
      "text/plain": [
       "54195.579999999994"
      ]
     },
     "execution_count": 4,
     "metadata": {},
     "output_type": "execute_result"
    }
   ],
   "source": [
    "agent1_score = sum(agent1_avg_score)/10\n",
    "agent1_score"
   ]
  },
  {
   "cell_type": "code",
   "execution_count": 5,
   "id": "charged-invention",
   "metadata": {},
   "outputs": [
    {
     "data": {
      "text/plain": [
       "37090.1"
      ]
     },
     "execution_count": 5,
     "metadata": {},
     "output_type": "execute_result"
    }
   ],
   "source": [
    "agent2_score = sum(agent2_avg_score)/10\n",
    "agent2_score"
   ]
  },
  {
   "cell_type": "code",
   "execution_count": 6,
   "id": "sufficient-gasoline",
   "metadata": {},
   "outputs": [
    {
     "data": {
      "text/plain": [
       "9500.539999999997"
      ]
     },
     "execution_count": 6,
     "metadata": {},
     "output_type": "execute_result"
    }
   ],
   "source": [
    "agent3_score = sum(agent3_avg_score)/10\n",
    "agent3_score"
   ]
  },
  {
   "cell_type": "code",
   "execution_count": 9,
   "id": "sound-botswana",
   "metadata": {},
   "outputs": [
    {
     "data": {
      "image/png": "[encoded data removed]",
      "text/plain": [
       "<Figure size 432x288 with 1 Axes>"
      ]
     },
     "metadata": {
      "needs_background": "light"
     },
     "output_type": "display_data"
    }
   ],
   "source": [
    "import matplotlib.pyplot as plt\n",
    "import numpy as np\n",
    "BAR_WIDTH = 0.5     # 0. < BAR_WIDTH <= 1.\n",
    "\n",
    "# the data you want to plot\n",
    "categories = [\"Agent 1\", \"Agent 2\", \"Agent 3\"]\n",
    "values     = [ agent1_score,  agent2_score, agent3_score]\n",
    "# x-values for the center of each bar\n",
    "xs = np.arange(1, len(categories) +1)\n",
    "# plot each bar centered\n",
    "plt.bar(xs - BAR_WIDTH/20, values, width=BAR_WIDTH)\n",
    "# add bar labels\n",
    "plt.xticks(xs, categories)\n",
    "# make sure the chart is centered\n",
    "plt.xlim(0, len(categories) + 1)\n",
    "plt.title('Agent 1 vs Agent 2 vs Agent 3 Time Score (lower = better)')\n",
    "plt.xlabel('Agent')\n",
    "plt.ylabel('Score')\n",
    "# show the results\n",
    "plt.show()"
   ]
  },
  {
   "cell_type": "code",
   "execution_count": 7,
   "id": "gorgeous-express",
   "metadata": {},
   "outputs": [
    {
     "data": {
      "text/plain": [
       "0.2561475973372948"
      ]
     },
     "execution_count": 7,
     "metadata": {},
     "output_type": "execute_result"
    }
   ],
   "source": [
    "agent3_score/agent2_score"
   ]
  },
  {
   "cell_type": "code",
   "execution_count": null,
   "id": "decent-aside",
   "metadata": {},
   "outputs": [],
   "source": []
  }
 ],
 "metadata": {
  "kernelspec": {
   "display_name": "Python 3",
   "language": "python",
   "name": "python3"
  },
  "language_info": {
   "codemirror_mode": {
    "name": "ipython",
    "version": 3
   },
   "file_extension": ".py",
   "mimetype": "text/x-python",
   "name": "python",
   "nbconvert_exporter": "python",
   "pygments_lexer": "ipython3",
   "version": "3.7.3"
  }
 },
 "nbformat": 4,
 "nbformat_minor": 5
}
