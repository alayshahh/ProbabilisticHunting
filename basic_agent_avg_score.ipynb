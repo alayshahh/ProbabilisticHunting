{
 "cells": [
  {
   "cell_type": "code",
   "execution_count": 1,
   "id": "sought-hacker",
   "metadata": {},
   "outputs": [],
   "source": [
    "### Problem 3 \n",
    "## Generate 10 maps, and play through each map (with random target location and initial agent location each time) 10 times with each agent."
   ]
  },
  {
   "cell_type": "code",
   "execution_count": 2,
   "id": "separate-socket",
   "metadata": {},
   "outputs": [],
   "source": [
    "import grid as GRID\n",
    "import agent1\n",
    "import agent2\n",
    "import agent3\n",
    "from tqdm import tqdm"
   ]
  },
  {
   "cell_type": "code",
   "execution_count": 3,
   "id": "juvenile-bargain",
   "metadata": {},
   "outputs": [
    {
     "name": "stderr",
     "output_type": "stream",
     "text": [
      "100%|██████████| 10/10 [18:02<00:00, 108.25s/it]\n",
      "100%|██████████| 10/10 [04:24<00:00, 26.45s/it]\n",
      "100%|██████████| 10/10 [04:38<00:00, 27.82s/it]\n",
      "100%|██████████| 10/10 [04:51<00:00, 29.18s/it]\n",
      "100%|██████████| 10/10 [01:12<00:00,  7.26s/it]\n",
      "100%|██████████| 10/10 [01:47<00:00, 10.79s/it]\n",
      "100%|██████████| 10/10 [01:47<00:00, 10.76s/it]\n",
      "100%|██████████| 10/10 [01:34<00:00,  9.46s/it]\n",
      "100%|██████████| 10/10 [01:35<00:00,  9.53s/it]\n",
      "100%|██████████| 10/10 [02:02<00:00, 12.27s/it]\n"
     ]
    }
   ],
   "source": [
    "agent1_avg_score = []\n",
    "agent2_avg_score = []\n",
    "for i in range(10):\n",
    "  grid = GRID.generate_grid(50)\n",
    "  orig_belief = 1/50**2\n",
    "  agent1_score = 0\n",
    "  agent2_score = 0\n",
    "  for j in tqdm(range(10)):\n",
    "    agent1_score += agent1.run(grid,[[orig_belief for _ in range(50)] for _ in range(50)])\n",
    "    agent2_score += agent2.run(grid,[[orig_belief for _ in range(50)] for _ in range(50)])\n",
    "  agent1_avg_score.append(agent1_score/10)\n",
    "  agent2_avg_score.append(agent2_score/10)"
   ]
  },
  {
   "cell_type": "code",
   "execution_count": 19,
   "id": "mobile-speech",
   "metadata": {},
   "outputs": [
    {
     "data": {
      "text/plain": [
       "58913.6"
      ]
     },
     "execution_count": 19,
     "metadata": {},
     "output_type": "execute_result"
    }
   ],
   "source": [
    "agent1_score = sum(agent1_avg_score)/10\n",
    "agent1_score"
   ]
  },
  {
   "cell_type": "code",
   "execution_count": 20,
   "id": "assured-kinase",
   "metadata": {},
   "outputs": [
    {
     "data": {
      "text/plain": [
       "38790.86"
      ]
     },
     "execution_count": 20,
     "metadata": {},
     "output_type": "execute_result"
    }
   ],
   "source": [
    "agent2_score = sum(agent2_avg_score)/10\n",
    "agent2_score"
   ]
  },
  {
   "cell_type": "code",
   "execution_count": 18,
   "id": "dated-failure",
   "metadata": {
    "scrolled": true
   },
   "outputs": [
    {
     "data": {
      "image/png": "[encoded data removed]",
      "text/plain": [
       "<Figure size 432x288 with 1 Axes>"
      ]
     },
     "metadata": {
      "needs_background": "light"
     },
     "output_type": "display_data"
    }
   ],
   "source": [
    "import matplotlib.pyplot as plt\n",
    "import numpy as np\n",
    "\n",
    "BAR_WIDTH = 0.5     # 0. < BAR_WIDTH <= 1.\n",
    "\n",
    "# the data you want to plot\n",
    "categories = [\"Agent 1\", \"Agent 2\"]\n",
    "values     = [ agent1_score,  agent2_score]\n",
    "# x-values for the center of each bar\n",
    "xs = np.arange(1, len(categories) +1)\n",
    "# plot each bar centered\n",
    "plt.bar(xs - BAR_WIDTH/20, values, width=BAR_WIDTH)\n",
    "# add bar labels\n",
    "plt.xticks(xs, categories)\n",
    "# make sure the chart is centered\n",
    "plt.xlim(0, len(categories) + 1)\n",
    "plt.title('Agent 1 vs Agent 2 Time Score (lower = better)')\n",
    "plt.xlabel('Agent')\n",
    "plt.ylabel('Score')\n",
    "# show the results\n",
    "plt.show()"
   ]
  },
  {
   "cell_type": "code",
   "execution_count": 12,
   "id": "linear-blair",
   "metadata": {},
   "outputs": [
    {
     "name": "stderr",
     "output_type": "stream",
     "text": [
      "100%|██████████| 10/10 [06:46<00:00, 40.61s/it]\n",
      "100%|██████████| 10/10 [04:29<00:00, 26.92s/it]\n",
      "100%|██████████| 10/10 [05:39<00:00, 33.93s/it]\n",
      "100%|██████████| 10/10 [01:14<00:00,  7.48s/it]\n",
      "100%|██████████| 10/10 [07:01<00:00, 42.17s/it]\n",
      "100%|██████████| 10/10 [04:28<00:00, 26.86s/it]\n",
      "100%|██████████| 10/10 [06:03<00:00, 36.39s/it]\n",
      "100%|██████████| 10/10 [03:05<00:00, 18.54s/it]\n",
      "100%|██████████| 10/10 [04:33<00:00, 27.39s/it]\n",
      "100%|██████████| 10/10 [03:49<00:00, 22.99s/it]\n"
     ]
    }
   ],
   "source": [
    "agent1_avg_score = []\n",
    "agent2_avg_score = []\n",
    "agent3_avg_score = []\n",
    "for i in range(10):\n",
    "  grid = GRID.generate_grid(50)\n",
    "  orig_belief = 1/50**2\n",
    "  agent1_score = 0\n",
    "  agent2_score = 0\n",
    "  agent3_score = 0\n",
    "  for j in tqdm(range(10)):\n",
    "    agent1_score += agent1.run(grid,[[orig_belief for _ in range(50)] for _ in range(50)])\n",
    "    agent2_score += agent2.run(grid,[[orig_belief for _ in range(50)] for _ in range(50)])\n",
    "    agent3_score += agent3.run(grid,[[orig_belief for _ in range(50)] for _ in range(50)])\n",
    "  agent1_avg_score.append(agent1_score/10)\n",
    "  agent2_avg_score.append(agent2_score/10)\n",
    "  agent3_avg_score.append(agent3_score/10)"
   ]
  },
  {
   "cell_type": "code",
   "execution_count": 13,
   "id": "atomic-advance",
   "metadata": {},
   "outputs": [
    {
     "data": {
      "text/plain": [
       "58913.6"
      ]
     },
     "execution_count": 13,
     "metadata": {},
     "output_type": "execute_result"
    }
   ],
   "source": [
    "agent1_score = sum(agent1_avg_score)/10\n",
    "agent1_score"
   ]
  },
  {
   "cell_type": "code",
   "execution_count": 14,
   "id": "charged-invention",
   "metadata": {},
   "outputs": [
    {
     "data": {
      "text/plain": [
       "38790.86"
      ]
     },
     "execution_count": 14,
     "metadata": {},
     "output_type": "execute_result"
    }
   ],
   "source": [
    "agent2_score = sum(agent2_avg_score)/10\n",
    "agent2_score"
   ]
  },
  {
   "cell_type": "code",
   "execution_count": 15,
   "id": "sufficient-gasoline",
   "metadata": {},
   "outputs": [
    {
     "data": {
      "text/plain": [
       "12256.92"
      ]
     },
     "execution_count": 15,
     "metadata": {},
     "output_type": "execute_result"
    }
   ],
   "source": [
    "agent3_score = sum(agent3_avg_score)/10\n",
    "agent3_score"
   ]
  },
  {
   "cell_type": "code",
   "execution_count": 16,
   "id": "sound-botswana",
   "metadata": {},
   "outputs": [
    {
     "data": {
      "image/png": "[encoded data removed]",
      "text/plain": [
       "<Figure size 432x288 with 1 Axes>"
      ]
     },
     "metadata": {
      "needs_background": "light"
     },
     "output_type": "display_data"
    }
   ],
   "source": [
    "import matplotlib.pyplot as plt\n",
    "import numpy as np\n",
    "BAR_WIDTH = 0.5     # 0. < BAR_WIDTH <= 1.\n",
    "\n",
    "# the data you want to plot\n",
    "categories = [\"Agent 1\", \"Agent 2\", \"Agent 3\"]\n",
    "values     = [ agent1_score,  agent2_score, agent3_score]\n",
    "# x-values for the center of each bar\n",
    "xs = np.arange(1, len(categories) +1)\n",
    "# plot each bar centered\n",
    "plt.bar(xs - BAR_WIDTH/20, values, width=BAR_WIDTH)\n",
    "# add bar labels\n",
    "plt.xticks(xs, categories)\n",
    "# make sure the chart is centered\n",
    "plt.xlim(0, len(categories) + 1)\n",
    "plt.title('Agent 1 vs Agent 2 vs Agent 3 Time Score (lower = better)')\n",
    "plt.xlabel('Agent')\n",
    "plt.ylabel('Score')\n",
    "# show the results\n",
    "plt.show()"
   ]
  },
  {
   "cell_type": "code",
   "execution_count": 17,
   "id": "gorgeous-express",
   "metadata": {},
   "outputs": [
    {
     "data": {
      "text/plain": [
       "0.3159744331525519"
      ]
     },
     "execution_count": 17,
     "metadata": {},
     "output_type": "execute_result"
    }
   ],
   "source": [
    "agent3_score/agent2_score"
   ]
  },
  {
   "cell_type": "code",
   "execution_count": null,
   "id": "decent-aside",
   "metadata": {},
   "outputs": [],
   "source": []
  }
 ],
 "metadata": {
  "kernelspec": {
   "display_name": "Python 3",
   "language": "python",
   "name": "python3"
  },
  "language_info": {
   "codemirror_mode": {
    "name": "ipython",
    "version": 3
   },
   "file_extension": ".py",
   "mimetype": "text/x-python",
   "name": "python",
   "nbconvert_exporter": "python",
   "pygments_lexer": "ipython3",
   "version": "3.7.3"
  }
 },
 "nbformat": 4,
 "nbformat_minor": 5
}
