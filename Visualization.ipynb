{
 "cells": [
  {
   "cell_type": "code",
   "execution_count": 11,
   "id": "fitted-privacy",
   "metadata": {},
   "outputs": [
    {
     "name": "stdout",
     "output_type": "stream",
     "text": [
      "The autoreload extension is already loaded. To reload it, use:\n",
      "  %reload_ext autoreload\n"
     ]
    }
   ],
   "source": [
    "%load_ext autoreload\n",
    "%autoreload 2"
   ]
  },
  {
   "cell_type": "code",
   "execution_count": 12,
   "id": "mineral-southeast",
   "metadata": {},
   "outputs": [],
   "source": [
    "from grid import generate_grid, create_image_from_grid\n",
    "from PIL import Image"
   ]
  },
  {
   "cell_type": "code",
   "execution_count": 13,
   "id": "virtual-tackle",
   "metadata": {},
   "outputs": [],
   "source": [
    "grid = generate_grid(20)"
   ]
  },
  {
   "cell_type": "code",
   "execution_count": 18,
   "id": "regulation-wales",
   "metadata": {},
   "outputs": [],
   "source": [
    "img = create_image_from_grid(grid)"
   ]
  },
  {
   "cell_type": "code",
   "execution_count": 17,
   "id": "reduced-blind",
   "metadata": {},
   "outputs": [
    {
     "data": {
      "image/png": "[encoded data removed]",
      "text/plain": [
       "<PIL.Image.Image image mode=RGB size=200x200 at 0x7FC049C54B50>"
      ]
     },
     "execution_count": 17,
     "metadata": {},
     "output_type": "execute_result"
    }
   ],
   "source": [
    "img"
   ]
  },
  {
   "cell_type": "code",
   "execution_count": null,
   "id": "missing-flavor",
   "metadata": {},
   "outputs": [],
   "source": [
    "# To zoom in, pass in the option \"factor\" param to "
   ]
  }
 ],
 "metadata": {
  "kernelspec": {
   "display_name": "Python 3",
   "language": "python",
   "name": "python3"
  },
  "language_info": {
   "codemirror_mode": {
    "name": "ipython",
    "version": 3
   },
   "file_extension": ".py",
   "mimetype": "text/x-python",
   "name": "python",
   "nbconvert_exporter": "python",
   "pygments_lexer": "ipython3",
   "version": "3.8.5"
  }
 },
 "nbformat": 4,
 "nbformat_minor": 5
}
